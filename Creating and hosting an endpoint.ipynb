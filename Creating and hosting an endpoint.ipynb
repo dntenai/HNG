{
 "cells": [
  {
   "cell_type": "code",
   "execution_count": null,
   "id": "79088be8",
   "metadata": {},
   "outputs": [
    {
     "name": "stdout",
     "output_type": "stream",
     "text": [
      " * Serving Flask app '__main__'\n",
      " * Debug mode: off\n"
     ]
    },
    {
     "name": "stderr",
     "output_type": "stream",
     "text": [
      "WARNING: This is a development server. Do not use it in a production deployment. Use a production WSGI server instead.\n",
      " * Running on all addresses (0.0.0.0)\n",
      " * Running on http://127.0.0.1:5000\n",
      " * Running on http://10.2.0.2:5000\n",
      "Press CTRL+C to quit\n"
     ]
    }
   ],
   "source": [
    "from flask import Flask, request, jsonify\n",
    "import datetime\n",
    "\n",
    "app = Flask(__name__)\n",
    "\n",
    "@app.route('/api', methods=['GET'])\n",
    "def get_info():\n",
    "    # Get query parameters\n",
    "    slack_name = request.args.get('slack_name')\n",
    "    track = request.args.get('track')\n",
    "    \n",
    "    # Get the current day of the week\n",
    "    current_day = datetime.datetime.utcnow().strftime('%A')\n",
    "    \n",
    "    # Get the current UTC time with validation of +/-2 minutes\n",
    "    utc_time = datetime.datetime.utcnow().isoformat() + 'Z'\n",
    "    \n",
    "    # Define your GitHub repository and file URLs\n",
    "    github_repo_url = 'https://github.com/your-username/your-repo'\n",
    "    github_file_url = f'{github_repo_url}/blob/main/your-file.ext'\n",
    "    \n",
    "    # Create the response JSON\n",
    "    response = {\n",
    "        \"slack_name\": slack_name,\n",
    "        \"current_day\": current_day,\n",
    "        \"utc_time\": utc_time,\n",
    "        \"track\": track,\n",
    "        \"github_file_url\": github_file_url,\n",
    "        \"github_repo_url\": github_repo_url,\n",
    "        \"status_code\": 200\n",
    "    }\n",
    "    \n",
    "    return jsonify(response)\n",
    "\n",
    "if __name__ == '__main__':\n",
    "    app.run(host='0.0.0.0', port=5000)\n"
   ]
  },
  {
   "cell_type": "code",
   "execution_count": null,
   "id": "b7530ad4",
   "metadata": {},
   "outputs": [],
   "source": [
    "from flask import Flask, request, jsonify\n",
    "import datetime"
   ]
  },
  {
   "cell_type": "code",
   "execution_count": null,
   "id": "738b02b8",
   "metadata": {},
   "outputs": [],
   "source": [
    "app = Flask(__name__)"
   ]
  },
  {
   "cell_type": "code",
   "execution_count": null,
   "id": "496051a6",
   "metadata": {},
   "outputs": [],
   "source": [
    "@app.route('/api', methods=['GET'])\n",
    "def get_info():\n",
    "    # Get query parameters\n",
    "    slack_name = request.args.get('don49')\n",
    "    track = request.args.get('backend')"
   ]
  },
  {
   "cell_type": "code",
   "execution_count": null,
   "id": "8ef7cda2",
   "metadata": {},
   "outputs": [],
   "source": [
    "# Get the current day of the week\n",
    "current_day = datetime.datetime.utcnow().strftime('%A')\n",
    "    "
   ]
  },
  {
   "cell_type": "code",
   "execution_count": null,
   "id": "a1650cff",
   "metadata": {},
   "outputs": [],
   "source": [
    "# Get the current UTC time with validation of +/-2 minutes\n",
    "utc_time = datetime.datetime.utcnow().isoformat() + 'Z'"
   ]
  },
  {
   "cell_type": "code",
   "execution_count": null,
   "id": "d7d325fa",
   "metadata": {},
   "outputs": [],
   "source": [
    " # Define your GitHub repository and file URLs\n",
    "    github_repo_url = 'https://github.com/dntenai/HNG.git'\n",
    "    github_file_url = f'{github_repo_url}/blob/main/your-file.ext'"
   ]
  },
  {
   "cell_type": "code",
   "execution_count": null,
   "id": "c1905324",
   "metadata": {},
   "outputs": [],
   "source": [
    "# Create the response JSON\n",
    "response = {\n",
    "        \"slack_name\": don49,\n",
    "        \"current_day\": current_day,\n",
    "        \"utc_time\": utc_time,\n",
    "        \"track\": track,\n",
    "        \"github_file_url\": github_file_url,\n",
    "        \"github_repo_url\": github_repo_url,\n",
    "        \"status_code\": 200\n",
    "}"
   ]
  },
  {
   "cell_type": "code",
   "execution_count": null,
   "id": "49255edb",
   "metadata": {},
   "outputs": [],
   "source": []
  },
  {
   "cell_type": "code",
   "execution_count": null,
   "id": "833b7942",
   "metadata": {},
   "outputs": [],
   "source": []
  },
  {
   "cell_type": "code",
   "execution_count": null,
   "id": "1adaf674",
   "metadata": {},
   "outputs": [],
   "source": []
  },
  {
   "cell_type": "code",
   "execution_count": null,
   "id": "580e81da",
   "metadata": {},
   "outputs": [],
   "source": []
  },
  {
   "cell_type": "code",
   "execution_count": null,
   "id": "b3b5eda2",
   "metadata": {},
   "outputs": [],
   "source": []
  }
 ],
 "metadata": {
  "kernelspec": {
   "display_name": "Python 3 (ipykernel)",
   "language": "python",
   "name": "python3"
  },
  "language_info": {
   "codemirror_mode": {
    "name": "ipython",
    "version": 3
   },
   "file_extension": ".py",
   "mimetype": "text/x-python",
   "name": "python",
   "nbconvert_exporter": "python",
   "pygments_lexer": "ipython3",
   "version": "3.11.4"
  }
 },
 "nbformat": 4,
 "nbformat_minor": 5
}
